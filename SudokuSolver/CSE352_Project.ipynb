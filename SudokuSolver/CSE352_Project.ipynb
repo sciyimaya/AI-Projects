{
 "cells": [
  {
   "cell_type": "code",
   "execution_count": 27,
   "metadata": {},
   "outputs": [
    {
     "data": {
      "text/html": [
       "<div>\n",
       "<style scoped>\n",
       "    .dataframe tbody tr th:only-of-type {\n",
       "        vertical-align: middle;\n",
       "    }\n",
       "\n",
       "    .dataframe tbody tr th {\n",
       "        vertical-align: top;\n",
       "    }\n",
       "\n",
       "    .dataframe thead th {\n",
       "        text-align: right;\n",
       "    }\n",
       "</style>\n",
       "<table border=\"1\" class=\"dataframe\">\n",
       "  <thead>\n",
       "    <tr style=\"text-align: right;\">\n",
       "      <th></th>\n",
       "      <th>quizzes</th>\n",
       "      <th>solutions</th>\n",
       "    </tr>\n",
       "  </thead>\n",
       "  <tbody>\n",
       "    <tr>\n",
       "      <th>0</th>\n",
       "      <td>0043002090050090010700600430060020871900074000...</td>\n",
       "      <td>8643712593258497619712658434361925871986574322...</td>\n",
       "    </tr>\n",
       "    <tr>\n",
       "      <th>1</th>\n",
       "      <td>0401000501070039605200080000000000170009068008...</td>\n",
       "      <td>3461792581875239645296483719658324174729168358...</td>\n",
       "    </tr>\n",
       "    <tr>\n",
       "      <th>2</th>\n",
       "      <td>6001203840084590720000060050002640300700800069...</td>\n",
       "      <td>6951273841384596727248369158512647392739815469...</td>\n",
       "    </tr>\n",
       "    <tr>\n",
       "      <th>3</th>\n",
       "      <td>4972000001004000050000160986203000403009000000...</td>\n",
       "      <td>4972583161864397252537164986293815473759641828...</td>\n",
       "    </tr>\n",
       "    <tr>\n",
       "      <th>4</th>\n",
       "      <td>0059103080094030600275001000300002010008200070...</td>\n",
       "      <td>4659123781894735623275681497386452919548216372...</td>\n",
       "    </tr>\n",
       "  </tbody>\n",
       "</table>\n",
       "</div>"
      ],
      "text/plain": [
       "                                             quizzes  \\\n",
       "0  0043002090050090010700600430060020871900074000...   \n",
       "1  0401000501070039605200080000000000170009068008...   \n",
       "2  6001203840084590720000060050002640300700800069...   \n",
       "3  4972000001004000050000160986203000403009000000...   \n",
       "4  0059103080094030600275001000300002010008200070...   \n",
       "\n",
       "                                           solutions  \n",
       "0  8643712593258497619712658434361925871986574322...  \n",
       "1  3461792581875239645296483719658324174729168358...  \n",
       "2  6951273841384596727248369158512647392739815469...  \n",
       "3  4972583161864397252537164986293815473759641828...  \n",
       "4  4659123781894735623275681497386452919548216372...  "
      ]
     },
     "execution_count": 27,
     "metadata": {},
     "output_type": "execute_result"
    }
   ],
   "source": [
    "import pandas as pd\n",
    "import matplotlib.pyplot as plt\n",
    "import seaborn as sns\n",
    "import numpy as np\n",
    "import keras\n",
    "import keras.backend as K\n",
    "from keras.optimizers import Adam\n",
    "from keras.models import Sequential\n",
    "from keras.utils import Sequence\n",
    "from keras.layers import *\n",
    "\n",
    "# open csv file, please change this if you're opening a file from your end\n",
    "df = pd.read_csv(r\"C:\\Users\\GLUTEUSMAXIMUS&OPPAI\\Desktop\\352_project\\sudoku.csv\")\n",
    "rating_df = pd.read_csv(r\"C:\\Users\\GLUTEUSMAXIMUS&OPPAI\\Desktop\\352_project\\sudoku-3m.csv\")\n",
    "# taking a quick glance at the data\n",
    "df.head()"
   ]
  },
  {
   "cell_type": "code",
   "execution_count": 28,
   "metadata": {},
   "outputs": [],
   "source": [
    "# initializing the data generator class of keras\n",
    "class DataGenerator(Sequence):\n",
    "    def __init__(self, df,batch_size = 16,subset = \"train\",shuffle = False):\n",
    "        super().__init__()\n",
    "        self.df = df\n",
    "        self.batch_size = batch_size\n",
    "        self.shuffle = shuffle\n",
    "        self.subset = subset\n",
    "        self.data_path = \"\\sudoku.csv\"\n",
    "        self.on_epoch_end()\n",
    "        \n",
    "    def __len__(self):\n",
    "        return int(np.floor(len(self.df)/self.batch_size))\n",
    "    \n",
    "    def on_epoch_end(self):\n",
    "        self.indexes = np.arange(len(self.df))\n",
    "        if self.shuffle==True:\n",
    "            np.random.shuffle(self.indexes)\n",
    "            \n",
    "    def __getitem__(self,index):\n",
    "        X = np.empty((self.batch_size, 9,9,1))\n",
    "        y = np.empty((self.batch_size,81,1))\n",
    "        indexes = self.indexes[index*self.batch_size:(index+1)*self.batch_size]\n",
    "        for i,f in enumerate(self.df['quizzes'].iloc[indexes]):\n",
    "            self.info[index*self.batch_size+i]=f\n",
    "            X[i,] = (np.array(list(map(int,list(f)))).reshape((9,9,1))/9)-0.5\n",
    "        if self.subset == 'train': \n",
    "            for i,f in enumerate(self.df['solutions'].iloc[indexes]):\n",
    "                self.info[index*self.batch_size+i]=f\n",
    "                y[i,] = np.array(list(map(int,list(f)))).reshape((81,1)) - 1\n",
    "        if self.subset == 'train': return X, y\n",
    "        else: return X"
   ]
  },
  {
   "cell_type": "code",
   "execution_count": 29,
   "metadata": {},
   "outputs": [],
   "source": [
    "#building the sequential model\n",
    "model = Sequential()\n",
    "model.add(Conv2D(64, kernel_size=(3,3), activation='relu', padding='same', input_shape=(9,9,1)))\n",
    "model.add(BatchNormalization())\n",
    "model.add(Conv2D(64, kernel_size=(3,3), activation='relu', padding='same'))\n",
    "model.add(BatchNormalization())\n",
    "model.add(Conv2D(128, kernel_size=(1,1), activation='relu', padding='same'))\n",
    "model.add(Flatten())\n",
    "model.add(Dense(81*9))\n",
    "model.add(Reshape((-1, 9)))\n",
    "model.add(Activation('softmax'))\n",
    "adam = keras.optimizers.Adam(lr=.001)\n",
    "model.compile(loss='sparse_categorical_crossentropy', optimizer=adam, metrics=['accuracy'])"
   ]
  },
  {
   "cell_type": "code",
   "execution_count": 30,
   "metadata": {},
   "outputs": [
    {
     "name": "stdout",
     "output_type": "stream",
     "text": [
      "Model: \"sequential_2\"\n",
      "_________________________________________________________________\n",
      "Layer (type)                 Output Shape              Param #   \n",
      "=================================================================\n",
      "conv2d_6 (Conv2D)            (None, 9, 9, 64)          640       \n",
      "_________________________________________________________________\n",
      "batch_normalization_4 (Batch (None, 9, 9, 64)          256       \n",
      "_________________________________________________________________\n",
      "conv2d_7 (Conv2D)            (None, 9, 9, 64)          36928     \n",
      "_________________________________________________________________\n",
      "batch_normalization_5 (Batch (None, 9, 9, 64)          256       \n",
      "_________________________________________________________________\n",
      "conv2d_8 (Conv2D)            (None, 9, 9, 128)         8320      \n",
      "_________________________________________________________________\n",
      "flatten_2 (Flatten)          (None, 10368)             0         \n",
      "_________________________________________________________________\n",
      "dense_2 (Dense)              (None, 729)               7559001   \n",
      "_________________________________________________________________\n",
      "reshape_2 (Reshape)          (None, 81, 9)             0         \n",
      "_________________________________________________________________\n",
      "activation_2 (Activation)    (None, 81, 9)             0         \n",
      "=================================================================\n",
      "Total params: 7,605,401\n",
      "Trainable params: 7,605,145\n",
      "Non-trainable params: 256\n",
      "_________________________________________________________________\n"
     ]
    }
   ],
   "source": [
    "model.summary()"
   ]
  },
  {
   "cell_type": "code",
   "execution_count": 31,
   "metadata": {},
   "outputs": [],
   "source": [
    "train_idx = int(len(df)*0.95)\n",
    "df = df.sample(frac=1).reset_index(drop=True)\n",
    "training_generator = DataGenerator(df.iloc[:train_idx], subset = \"train\", batch_size=640)\n",
    "validation_generator = DataGenerator(df.iloc[train_idx:], subset = \"train\",  batch_size=640)"
   ]
  },
  {
   "cell_type": "code",
   "execution_count": 32,
   "metadata": {},
   "outputs": [],
   "source": [
    "from keras.callbacks import Callback, ModelCheckpoint, ReduceLROnPlateau\n",
    "filepath1=\"weights-improvement-{epoch:02d}-{val_accuracy:.2f}.hdf5\"\n",
    "filepath2 = \"best_weights.hdf5\"\n",
    "checkpoint1 = ModelCheckpoint(filepath1, monitor='val_accuracy', verbose=1, save_best_only=True, mode='max')\n",
    "checkpoint2 = ModelCheckpoint(filepath2, monitor='val_accuracy', verbose=1, save_best_only=True, mode='max')\n",
    "\n",
    "reduce_lr = ReduceLROnPlateau(\n",
    "    monitor='val_loss',\n",
    "    patience=3,\n",
    "    verbose=1,\n",
    "    min_lr=1e-6\n",
    ")\n",
    "callbacks_list = [checkpoint1,checkpoint2,reduce_lr]"
   ]
  },
  {
   "cell_type": "code",
   "execution_count": 21,
   "metadata": {},
   "outputs": [
    {
     "name": "stdout",
     "output_type": "stream",
     "text": [
      "Epoch 1/5\n",
      "1484/1484 [==============================] - 426s 287ms/step - loss: 0.3713 - accuracy: 0.1110 - val_loss: 0.3688 - val_accuracy: 0.1132\n",
      "\n",
      "Epoch 00001: val_accuracy improved from 0.10992 to 0.11315, saving model to weights-improvement-01-0.11.hdf5\n",
      "\n",
      "Epoch 00001: val_accuracy improved from 0.10992 to 0.11315, saving model to best_weights.hdf5\n",
      "Epoch 2/5\n",
      "1484/1484 [==============================] - 429s 289ms/step - loss: 0.3570 - accuracy: 0.1111 - val_loss: 0.3624 - val_accuracy: 0.1066\n",
      "\n",
      "Epoch 00002: val_accuracy did not improve from 0.11315\n",
      "\n",
      "Epoch 00002: val_accuracy did not improve from 0.11315\n",
      "Epoch 3/5\n",
      "1484/1484 [==============================] - 434s 292ms/step - loss: 0.3472 - accuracy: 0.1112 - val_loss: 0.3595 - val_accuracy: 0.1109\n",
      "\n",
      "Epoch 00003: val_accuracy did not improve from 0.11315\n",
      "\n",
      "Epoch 00003: val_accuracy did not improve from 0.11315\n",
      "Epoch 4/5\n",
      "1484/1484 [==============================] - 423s 285ms/step - loss: 0.3394 - accuracy: 0.1112 - val_loss: 0.3588 - val_accuracy: 0.1090\n",
      "\n",
      "Epoch 00004: val_accuracy did not improve from 0.11315\n",
      "\n",
      "Epoch 00004: val_accuracy did not improve from 0.11315\n",
      "Epoch 5/5\n",
      "1484/1484 [==============================] - 432s 291ms/step - loss: 0.3327 - accuracy: 0.1112 - val_loss: 0.3588 - val_accuracy: 0.1142\n",
      "\n",
      "Epoch 00005: val_accuracy improved from 0.11315 to 0.11417, saving model to weights-improvement-05-0.11.hdf5\n",
      "\n",
      "Epoch 00005: val_accuracy improved from 0.11315 to 0.11417, saving model to best_weights.hdf5\n"
     ]
    }
   ],
   "source": [
    "history = model.fit(training_generator, validation_data = validation_generator, epochs = 5, verbose=1,callbacks=callbacks_list )"
   ]
  },
  {
   "cell_type": "code",
   "execution_count": 33,
   "metadata": {},
   "outputs": [],
   "source": [
    "# saving the best weights\n",
    "model.load_weights('best_weights.hdf5')"
   ]
  },
  {
   "cell_type": "code",
   "execution_count": 49,
   "metadata": {},
   "outputs": [],
   "source": [
    "# using the model to solve, reference the CNN guide for this section of the reformatting code.\n",
    "def solve_sudoku(game):\n",
    "    game = np.array(game).reshape((9,9,1))\n",
    "    game = (game/9)-0.5\n",
    "    while(1):\n",
    "        out = model.predict(game.reshape((1,9,9,1)))  \n",
    "        out = out.squeeze()\n",
    "        pred = np.argmax(out, axis=1).reshape((9,9))+1 \n",
    "        prob = np.around(np.max(out, axis=1).reshape((9,9)), 2) \n",
    "        game = ((game+.5)*9).reshape((9,9))\n",
    "        mask = (game==0)\n",
    "        if(mask.sum()==0):\n",
    "            break\n",
    "        prob_new = prob*mask\n",
    "        ind = np.argmax(prob_new)\n",
    "        x, y = (ind//9),(ind%9)\n",
    "        val = pred[x][y]\n",
    "        game[x][y] = val\n",
    "        game = (game/9)-0.5\n",
    "    return pred\n",
    "    return game"
   ]
  },
  {
   "cell_type": "code",
   "execution_count": 50,
   "metadata": {},
   "outputs": [
    {
     "name": "stdout",
     "output_type": "stream",
     "text": [
      "[[3 5 6 2 4 8 7 1 9]\n",
      " [7 4 8 3 1 9 5 6 2]\n",
      " [1 2 9 6 7 5 8 3 4]\n",
      " [2 9 5 4 6 1 3 7 8]\n",
      " [4 1 3 8 5 7 9 2 6]\n",
      " [6 8 7 9 3 2 4 5 1]\n",
      " [5 7 2 1 8 4 6 9 3]\n",
      " [8 3 1 5 9 6 2 4 7]\n",
      " [9 6 4 7 2 3 1 8 5]]\n"
     ]
    }
   ],
   "source": [
    "# sample board input\n",
    "game = [[0, 0, 0, 2, 4, 8, 7, 1, 9], \n",
    "      [7, 0, 0, 0, 0, 0, 5, 0, 0], \n",
    "      [0, 2, 0, 6, 0, 5, 0, 0, 4], \n",
    "      [0, 0, 0, 4, 6, 0, 3, 7, 8], \n",
    "      [0, 1, 3, 0, 0, 7, 9, 0, 6], \n",
    "      [6, 0, 0, 0, 0, 2, 0, 5, 1], \n",
    "      [0, 7, 2, 1, 0, 0, 0, 0, 3], \n",
    "      [8, 0, 0, 0, 0, 6, 0, 0, 7], \n",
    "      [9, 0, 0, 0, 2, 0, 1, 8, 0]]\n",
    "\n",
    "game = solve_sudoku(game)\n",
    "print(game)"
   ]
  },
  {
   "cell_type": "code",
   "execution_count": 51,
   "metadata": {},
   "outputs": [
    {
     "data": {
      "text/plain": [
       "array([45, 45, 45, 45, 45, 45, 45, 45, 45], dtype=int64)"
      ]
     },
     "execution_count": 51,
     "metadata": {},
     "output_type": "execute_result"
    }
   ],
   "source": [
    "#check if the array is correct\n",
    "np.sum(game, axis=1)"
   ]
  },
  {
   "cell_type": "code",
   "execution_count": null,
   "metadata": {},
   "outputs": [],
   "source": []
  }
 ],
 "metadata": {
  "kernelspec": {
   "display_name": "Python 3",
   "language": "python",
   "name": "python3"
  }
 },
 "nbformat": 4,
 "nbformat_minor": 4
}
